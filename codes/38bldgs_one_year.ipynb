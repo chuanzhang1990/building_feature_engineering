{
 "cells": [
  {
   "cell_type": "code",
   "execution_count": 2,
   "metadata": {
    "collapsed": true
   },
   "outputs": [],
   "source": [
    "from IPython.display import Image\n",
    "%matplotlib inline"
   ]
  },
  {
   "cell_type": "markdown",
   "metadata": {},
   "source": [
    "## data wrangling"
   ]
  },
  {
   "cell_type": "code",
   "execution_count": 3,
   "metadata": {
    "collapsed": false
   },
   "outputs": [
    {
     "data": {
      "text/plain": [
       "(314121, 30)"
      ]
     },
     "execution_count": 3,
     "metadata": {},
     "output_type": "execute_result"
    }
   ],
   "source": [
    "import pandas as pd\n",
    "\n",
    "df1 = pd.read_csv('data/38bldgs_electricity_egauage_hours_2014.csv',\n",
    "#                 index_col= ['dataid','localhour'],\n",
    "                 index_col= 'dataid',\n",
    "                 header='infer',\n",
    "                 sep=',')\n",
    "\n",
    "df1.shape\n",
    "\n",
    "df1.dropna(axis=1,how='all');\n",
    "# drop the columns where all values are null\n",
    "\n",
    "df1.head();\n",
    "\n",
    "df1['electricity_consumption'] = df1.sum(axis=1)\n",
    "\n",
    "df_1 = df1[['localhour', 'electricity_consumption']].copy()\n",
    "\n",
    "df_1.shape\n",
    "\n",
    "# df_11 = df_1.reset_index(level='dataid')\n",
    "# reset the dataid as column instead of index for the sake of join\n",
    "\n",
    "df_1.head()\n",
    "\n",
    "import pandas as pd\n",
    "\n",
    "df2 = pd.read_csv('data/weather_hours_2014.csv',\n",
    "#                index_col='localhour',\n",
    "                 header='infer',\n",
    "                 sep=',')\n",
    "\n",
    "df2.shape\n",
    "\n",
    "df2.dropna(axis=1,how='all');\n",
    "# drop the columns where all values are null\n",
    "\n",
    "df2.median();\n",
    "df_2 = df2.fillna(df2.median())\n",
    "\n",
    "df_2.fillna(0, inplace=True)\n",
    "# set the null value to zero\n",
    "\n",
    "df_2.shape\n",
    "\n",
    "# df_22 = df_2.reset_index(level='localhour')\n",
    "# reset the dataid as column instead of index for the sake of drop duplicate\n",
    "\n",
    "df_2 = df_2.drop_duplicates(subset='localhour', keep='first');\n",
    "# drop duplicate tuples based on localhour column\n",
    "\n",
    "df_2.shape\n",
    "\n",
    "df_2.head()\n",
    "\n",
    "df_1 = df_1.reset_index(level='dataid');\n",
    "# reset the dataid as column instead of index for the sake of join\n",
    "\n",
    "df_1.head()\n",
    "\n",
    "df_1['localhour']  = pd.to_datetime(df_1['localhour'])\n",
    "\n",
    "df_2['localhour']  = pd.to_datetime(df_2['localhour'])\n",
    "\n",
    "df_a = pd.merge(df_1, df_2, on='localhour', how='left')\n",
    "\n",
    "df_a.shape\n",
    "\n",
    "df_a.head()\n",
    "\n",
    "df_a = df_a.fillna(df_a.median())\n",
    "\n",
    "df_a.isnull().sum();\n",
    "# show the number of null values in each column\n",
    "\n",
    "df_a.shape"
   ]
  },
  {
   "cell_type": "markdown",
   "metadata": {},
   "source": [
    "## feature engineering"
   ]
  },
  {
   "cell_type": "code",
   "execution_count": null,
   "metadata": {
    "collapsed": false
   },
   "outputs": [],
   "source": [
    "import matplotlib.pyplot as plt\n",
    "import seaborn as sns\n",
    "\n",
    "\n",
    "sns.set(style='darkgrid', context='notebook')\n",
    "cols = ['temperature', 'humidity', 'dew_point','visibility','pressure', 'apparent_temperature',\n",
    "        'wind_speed', 'cloud_cover', 'wind_bearing',\n",
    "        'electricity_consumption']\n",
    "\n",
    "sns.pairplot(df_a[cols], size=15)\n",
    "plt.tight_layout()\n",
    "plt.savefig('./figures/scatter.png', dpi=300)\n",
    "# plt.show()"
   ]
  },
  {
   "cell_type": "code",
   "execution_count": null,
   "metadata": {
    "collapsed": true
   },
   "outputs": [],
   "source": []
  }
 ],
 "metadata": {
  "kernelspec": {
   "display_name": "Python 3",
   "language": "python",
   "name": "python3"
  },
  "language_info": {
   "codemirror_mode": {
    "name": "ipython",
    "version": 3
   },
   "file_extension": ".py",
   "mimetype": "text/x-python",
   "name": "python",
   "nbconvert_exporter": "python",
   "pygments_lexer": "ipython3",
   "version": "3.6.0"
  }
 },
 "nbformat": 4,
 "nbformat_minor": 2
}
