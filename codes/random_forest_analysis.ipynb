{
 "cells": [
  {
   "cell_type": "code",
   "execution_count": 1,
   "metadata": {
    "collapsed": true
   },
   "outputs": [],
   "source": [
    "from IPython.display import Image\n",
    "%matplotlib inline"
   ]
  },
  {
   "cell_type": "markdown",
   "metadata": {},
   "source": [
    "## get the table"
   ]
  },
  {
   "cell_type": "code",
   "execution_count": 2,
   "metadata": {
    "collapsed": false
   },
   "outputs": [
    {
     "data": {
      "text/plain": [
       "(38, 172)"
      ]
     },
     "execution_count": 2,
     "metadata": {},
     "output_type": "execute_result"
    }
   ],
   "source": [
    "import pandas as pd\n",
    "\n",
    "df1 = pd.read_csv('data/input/38bldgs_survey_2013.csv',\n",
    "#                  index_col='dataid',\n",
    "                 header='infer',\n",
    "                 sep=',')\n",
    "\n",
    "df1.dtypes;\n",
    "\n",
    "df1.shape\n",
    "\n",
    "df1.dropna(axis=1,how='all');\n",
    "# drop the columns where all values are null\n",
    "\n",
    "df1 = df1.drop_duplicates(subset='dataid', keep='first')\n",
    "\n",
    "df1.shape\n",
    "\n",
    "range1 = lambda start, end: range(start, end+1)\n",
    "\n",
    "list1 = [1] + list(range1(3,4)) + [22, 23, 37, 39, 41, 42, 43, 45, 46] + list(range1(60,67)) + [76] + list(range1(87,101)) \\\n",
    "            + [108, 110, 113, 115, 120, 122, 124, 129, 131, 132, 133] + list(range(135, 168, 2)) + list(range1(174,177)) \\\n",
    "             + [182] \n",
    "# list of columns to be dropped due to these columns simply do not make sense       \n",
    "\n",
    "df1 = df1.drop(df1.columns[list1], axis=1)\n",
    "\n",
    "df1.shape\n",
    "\n",
    "pd.set_option('display.max_rows', 200)\n",
    "# set the max rows can be displayed as 200\n",
    "\n",
    "list11 = [1,2,3,4,7]\n",
    "# list of columb to be dropped due to overlap between audits table and survey table\n",
    "\n",
    "df1 = df1.drop(df1.columns[list11], axis=1)\n",
    "\n",
    "df1.dropna(axis=1,how='all');\n",
    "# drop the columns where all values are null\n",
    "\n",
    "# df1.to_csv('data/test.csv', sep=',')\n",
    "\n",
    "df1.shape\n",
    "\n",
    "list12 = list(range1(3,13)) + list(range1(24,45)) + list(range1(49,59)) + list(range1(61,66)) + [73,75] \\\n",
    "           + list(range1(77,81)) + list(range1(99,104))\n",
    " \n",
    "# list of columns to get dummied\n",
    "\n",
    "df_1 = pd.get_dummies(df1[list12])\n",
    "# convert the nominal categorical features\n",
    "\n",
    "df_1.shape\n",
    "# size of the data framwork with dummy features\n",
    "\n",
    "df_1.dtypes;\n",
    "\n",
    "list13 = [14, 15, 46] + list(range1(82,98)) + list(range1(105,108))\n",
    "# list of column to be converted \n",
    "\n",
    "df_11 = df1[list13].apply(pd.to_numeric, errors='coerce')\n",
    "# convert the ordinal categorical features\n",
    "\n",
    "df_11.dtypes;\n",
    "\n",
    "df_11.shape\n",
    "# size of the data framwork with converted features\n",
    "\n",
    "df1.dtypes;\n",
    "# check data types of df1 before converting\n",
    "\n",
    "list14 = list12 + list13\n",
    "# get the combined list of the columns that have been dummied and have been converted\n",
    "\n",
    "df1 = df1.drop(df1.columns[list14], axis=1)\n",
    "# reduce the dummy and converted columns from the original data framework\n",
    "\n",
    "df1.shape\n",
    "# size of the new dataframe \n",
    "\n",
    "df1 = pd.concat([df1, df_1], axis=1)\n",
    "\n",
    "df1 = pd.concat([df1, df_11], axis=1)\n",
    "\n",
    "df1.shape\n",
    "\n",
    "df1.dtypes;\n",
    "\n",
    "df1.head();\n",
    "\n",
    "df1.fillna(0, inplace=True)\n",
    "\n",
    "df1.head()\n",
    "\n",
    "df1.shape"
   ]
  },
  {
   "cell_type": "code",
   "execution_count": 3,
   "metadata": {
    "collapsed": false
   },
   "outputs": [
    {
     "data": {
      "text/plain": [
       "(38, 67)"
      ]
     },
     "execution_count": 3,
     "metadata": {},
     "output_type": "execute_result"
    }
   ],
   "source": [
    "import pandas as pd\n",
    "\n",
    "df2 = pd.read_csv('data/input/38bldgs_audits_2013.csv',\n",
    "#                  index_col='dataid',\n",
    "                 header='infer',\n",
    "                 sep=',')\n",
    "\n",
    "df2.shape\n",
    "\n",
    "df2.head();\n",
    "\n",
    "range2 = lambda start, end: range(start, end+1)\n",
    "\n",
    "list2 = list(range2(1,4)) + [8] + [12, 13] + [19, 20] + [27, 30, 47, 49, 57, 58, 59, 61, 63, 66, 68, 69, 70] + list(range2(74,77))\n",
    "# list of columns to be dropped     \n",
    "\n",
    "list2;\n",
    "\n",
    "df2 = df2.drop(df2.columns[list2], axis=1)\n",
    "\n",
    "df2.shape\n",
    "\n",
    "df2.dtypes;\n",
    "\n",
    "df2.head()\n",
    "\n",
    "df2.shape\n",
    "\n",
    "list22 = [6, 7, 8, 51]\n",
    "# list of column to be get dummied\n",
    "\n",
    "df_2 = pd.get_dummies(df2[list22])\n",
    "\n",
    "df_2.head();\n",
    "\n",
    "df_2.shape\n",
    "\n",
    "df2 = df2.drop(df2.columns[list22], axis=1)\n",
    "\n",
    "df2.shape\n",
    "\n",
    "df2 = pd.concat([df2, df_2], axis=1)\n",
    "\n",
    "df2.shape\n",
    "\n",
    "df2.head()\n",
    "\n",
    "df2.dtypes;\n",
    "\n",
    "df2.fillna(0, inplace=True)\n",
    "\n",
    "df2.head();\n",
    "\n",
    "df2.shape"
   ]
  },
  {
   "cell_type": "code",
   "execution_count": 4,
   "metadata": {
    "collapsed": false
   },
   "outputs": [
    {
     "data": {
      "text/plain": [
       "(38, 238)"
      ]
     },
     "execution_count": 4,
     "metadata": {},
     "output_type": "execute_result"
    }
   ],
   "source": [
    "df12 = pd.merge(df1, df2, on='dataid', how='left')\n",
    "\n",
    "df12.shape\n",
    "\n",
    "df12;\n",
    "\n",
    "df12.isnull().sum();\n",
    "# show the number of null values in each column\n",
    "\n",
    "df12.head();\n",
    "\n",
    "df12.shape"
   ]
  },
  {
   "cell_type": "code",
   "execution_count": 5,
   "metadata": {
    "collapsed": false
   },
   "outputs": [
    {
     "data": {
      "text/plain": [
       "(314121, 30)"
      ]
     },
     "execution_count": 5,
     "metadata": {},
     "output_type": "execute_result"
    }
   ],
   "source": [
    "import pandas as pd\n",
    "\n",
    "df1 = pd.read_csv('data/input/38bldgs_electricity_egauage_hours_2014.csv',\n",
    "#                 index_col= ['dataid','localhour'],\n",
    "                 index_col= 'dataid',\n",
    "                 header='infer',\n",
    "                 sep=',')\n",
    "\n",
    "df1.shape\n",
    "\n",
    "df1.dropna(axis=1,how='all');\n",
    "# drop the columns where all values are null\n",
    "\n",
    "df1.head();\n",
    "\n",
    "df1['electricity_consumption'] = df1.sum(axis=1)\n",
    "\n",
    "df_1 = df1[['localhour', 'electricity_consumption']].copy()\n",
    "\n",
    "df_1.shape\n",
    "\n",
    "# df_11 = df_1.reset_index(level='dataid')\n",
    "# reset the dataid as column instead of index for the sake of join\n",
    "\n",
    "df_1.head()\n",
    "\n",
    "import pandas as pd\n",
    "\n",
    "df2 = pd.read_csv('data/input/weather_hours_2014.csv',\n",
    "#                index_col='localhour',\n",
    "                 header='infer',\n",
    "                 sep=',')\n",
    "\n",
    "df2.shape\n",
    "\n",
    "df2.dropna(axis=1,how='all');\n",
    "# drop the columns where all values are null\n",
    "\n",
    "df2.median();\n",
    "df_2 = df2.fillna(df2.median())\n",
    "\n",
    "df_2.fillna(0, inplace=True)\n",
    "# set the null value to zero\n",
    "\n",
    "df_2.shape\n",
    "\n",
    "# df_22 = df_2.reset_index(level='localhour')\n",
    "# reset the dataid as column instead of index for the sake of drop duplicate\n",
    "\n",
    "df_2 = df_2.drop_duplicates(subset='localhour', keep='first');\n",
    "# drop duplicate tuples based on localhour column\n",
    "\n",
    "df_2.shape\n",
    "\n",
    "df_2.head()\n",
    "\n",
    "df_1 = df_1.reset_index(level='dataid');\n",
    "# reset the dataid as column instead of index for the sake of join\n",
    "\n",
    "df_1.head()\n",
    "\n",
    "df_1['localhour']  = pd.to_datetime(df_1['localhour'])\n",
    "\n",
    "df_2['localhour']  = pd.to_datetime(df_2['localhour'])\n",
    "\n",
    "df_a = pd.merge(df_1, df_2, on='localhour', how='left')\n",
    "\n",
    "df_a.shape\n",
    "\n",
    "df_a.head()\n",
    "\n",
    "df_a = df_a.fillna(df_a.median())\n",
    "\n",
    "df_a.isnull().sum();\n",
    "# show the number of null values in each column\n",
    "\n",
    "df_a.shape"
   ]
  },
  {
   "cell_type": "code",
   "execution_count": 6,
   "metadata": {
    "collapsed": false
   },
   "outputs": [
    {
     "data": {
      "text/plain": [
       "(314121, 265)"
      ]
     },
     "execution_count": 6,
     "metadata": {},
     "output_type": "execute_result"
    }
   ],
   "source": [
    "df = pd.merge(df_a, df12, on='dataid', how='left')\n",
    "\n",
    "df.shape\n",
    "\n",
    "df.head()\n",
    "\n",
    "df  =  df.drop(['summary','precip_type'], 1)\n",
    "\n",
    "df_reserve = df\n",
    "\n",
    "df.isnull().sum()\n",
    "# show the number of null values in each column\n",
    "\n",
    "df.dtypes;\n",
    "\n",
    "df.shape"
   ]
  },
  {
   "cell_type": "markdown",
   "metadata": {},
   "source": [
    "## feature importance in random forest"
   ]
  },
  {
   "cell_type": "code",
   "execution_count": 7,
   "metadata": {
    "collapsed": true
   },
   "outputs": [],
   "source": [
    "from distutils.version import LooseVersion as Version\n",
    "from sklearn import __version__ as sklearn_version\n",
    "import numpy as np\n",
    "import matplotlib.pyplot as plt\n",
    "import seaborn as sns\n",
    "from sklearn.ensemble import RandomForestRegressor"
   ]
  },
  {
   "cell_type": "code",
   "execution_count": 8,
   "metadata": {
    "collapsed": false,
    "scrolled": true
   },
   "outputs": [],
   "source": [
    "df = df_reserve.drop(['localhour','dataid'], axis =1)"
   ]
  },
  {
   "cell_type": "code",
   "execution_count": 9,
   "metadata": {
    "collapsed": false
   },
   "outputs": [],
   "source": [
    "df.head();"
   ]
  },
  {
   "cell_type": "code",
   "execution_count": 10,
   "metadata": {
    "collapsed": false,
    "scrolled": true
   },
   "outputs": [
    {
     "data": {
      "text/plain": [
       "(314121, 263)"
      ]
     },
     "execution_count": 10,
     "metadata": {},
     "output_type": "execute_result"
    }
   ],
   "source": [
    "df.shape"
   ]
  },
  {
   "cell_type": "code",
   "execution_count": 11,
   "metadata": {
    "collapsed": false
   },
   "outputs": [],
   "source": [
    "# choose one row every 50 row to randomly get a new dataframe for analysis to reduce the computation load\n",
    "df = df.iloc[::50, :]"
   ]
  },
  {
   "cell_type": "code",
   "execution_count": 12,
   "metadata": {
    "collapsed": true
   },
   "outputs": [],
   "source": [
    "# randomly choose 5000 rows to get a new dataframe - group the data by temperature, choose 3 from each group\n",
    "# df = df.sample(frac=1).groupby('latitude', sort=False).head(2000)"
   ]
  },
  {
   "cell_type": "code",
   "execution_count": 13,
   "metadata": {
    "collapsed": false
   },
   "outputs": [
    {
     "data": {
      "text/plain": [
       "(6283, 263)"
      ]
     },
     "execution_count": 13,
     "metadata": {},
     "output_type": "execute_result"
    }
   ],
   "source": [
    "df.shape"
   ]
  },
  {
   "cell_type": "code",
   "execution_count": 14,
   "metadata": {
    "collapsed": true
   },
   "outputs": [],
   "source": [
    "if Version(sklearn_version) < '0.18':\n",
    "    from sklearn.cross_validation import train_test_split\n",
    "else:\n",
    "    from sklearn.model_selection import train_test_split\n",
    "\n",
    "X, y = df.iloc[:, 1:].values, df.iloc[:, 0].values\n",
    "\n",
    "X_train, X_test, y_train, y_test = \\\n",
    "    train_test_split(X, y, test_size=0.3, random_state=0)"
   ]
  },
  {
   "cell_type": "code",
   "execution_count": 15,
   "metadata": {
    "collapsed": false
   },
   "outputs": [],
   "source": [
    "feat_labels = df.columns[1:]\n",
    "\n",
    "forest = RandomForestRegressor(n_estimators=10000,\n",
    "                                random_state=0,\n",
    "                                n_jobs=-1)\n",
    "\n",
    "forest.fit(X_train, y_train)\n",
    "importances = forest.feature_importances_\n",
    "\n",
    "indices = np.argsort(importances)[::-1]"
   ]
  },
  {
   "cell_type": "code",
   "execution_count": 16,
   "metadata": {
    "collapsed": true
   },
   "outputs": [],
   "source": [
    "plot1 = pd.DataFrame(data=importances,index=feat_labels)"
   ]
  },
  {
   "cell_type": "code",
   "execution_count": 17,
   "metadata": {
    "collapsed": true
   },
   "outputs": [],
   "source": [
    "plot1 = plot1.transpose()"
   ]
  },
  {
   "cell_type": "code",
   "execution_count": 18,
   "metadata": {
    "collapsed": false
   },
   "outputs": [
    {
     "data": {
      "text/html": [
       "<div>\n",
       "<table border=\"1\" class=\"dataframe\">\n",
       "  <thead>\n",
       "    <tr style=\"text-align: right;\">\n",
       "      <th></th>\n",
       "      <th>latitude</th>\n",
       "      <th>longitude</th>\n",
       "      <th>tz_offset</th>\n",
       "      <th>ozone</th>\n",
       "      <th>ozone_error</th>\n",
       "      <th>temperature</th>\n",
       "      <th>temperature_error</th>\n",
       "      <th>dew_point</th>\n",
       "      <th>dew_point_error</th>\n",
       "      <th>humidity</th>\n",
       "      <th>...</th>\n",
       "      <th>Foundation_Type__c_Pier and Beam</th>\n",
       "      <th>Foundation_Type__c_Slab</th>\n",
       "      <th>Foundation_Type__c_Slab;Pier and Beam</th>\n",
       "      <th>Type_of_Home__c_Apartment</th>\n",
       "      <th>Type_of_Home__c_Single-Family</th>\n",
       "      <th>Type_of_Home__c_Town Home</th>\n",
       "      <th>Distance_From_Neighbors__c_0</th>\n",
       "      <th>Distance_From_Neighbors__c_10</th>\n",
       "      <th>Distance_From_Neighbors__c_15</th>\n",
       "      <th>Distance_From_Neighbors__c_&gt;= 20</th>\n",
       "    </tr>\n",
       "  </thead>\n",
       "  <tbody>\n",
       "    <tr>\n",
       "      <th>0</th>\n",
       "      <td>0.000724</td>\n",
       "      <td>0.000917</td>\n",
       "      <td>0.006137</td>\n",
       "      <td>0.043519</td>\n",
       "      <td>0.0</td>\n",
       "      <td>0.06398</td>\n",
       "      <td>0.0</td>\n",
       "      <td>0.061288</td>\n",
       "      <td>0.0</td>\n",
       "      <td>0.048681</td>\n",
       "      <td>...</td>\n",
       "      <td>0.000099</td>\n",
       "      <td>0.000183</td>\n",
       "      <td>0.000061</td>\n",
       "      <td>0.00017</td>\n",
       "      <td>0.000279</td>\n",
       "      <td>0.000196</td>\n",
       "      <td>0.000442</td>\n",
       "      <td>0.000869</td>\n",
       "      <td>0.000928</td>\n",
       "      <td>0.000406</td>\n",
       "    </tr>\n",
       "  </tbody>\n",
       "</table>\n",
       "<p>1 rows × 262 columns</p>\n",
       "</div>"
      ],
      "text/plain": [
       "   latitude  longitude  tz_offset     ozone  ozone_error  temperature  \\\n",
       "0  0.000724   0.000917   0.006137  0.043519          0.0      0.06398   \n",
       "\n",
       "   temperature_error  dew_point  dew_point_error  humidity  \\\n",
       "0                0.0   0.061288              0.0  0.048681   \n",
       "\n",
       "                 ...                 Foundation_Type__c_Pier and Beam  \\\n",
       "0                ...                                         0.000099   \n",
       "\n",
       "   Foundation_Type__c_Slab  Foundation_Type__c_Slab;Pier and Beam  \\\n",
       "0                 0.000183                               0.000061   \n",
       "\n",
       "   Type_of_Home__c_Apartment  Type_of_Home__c_Single-Family  \\\n",
       "0                    0.00017                       0.000279   \n",
       "\n",
       "   Type_of_Home__c_Town Home  Distance_From_Neighbors__c_0  \\\n",
       "0                   0.000196                      0.000442   \n",
       "\n",
       "   Distance_From_Neighbors__c_10  Distance_From_Neighbors__c_15  \\\n",
       "0                       0.000869                       0.000928   \n",
       "\n",
       "   Distance_From_Neighbors__c_>= 20  \n",
       "0                          0.000406  \n",
       "\n",
       "[1 rows x 262 columns]"
      ]
     },
     "execution_count": 18,
     "metadata": {},
     "output_type": "execute_result"
    }
   ],
   "source": [
    "plot1"
   ]
  },
  {
   "cell_type": "code",
   "execution_count": 19,
   "metadata": {
    "collapsed": true
   },
   "outputs": [],
   "source": [
    "plot1 = plot1.sort_values(by=0, ascending=False, axis=1)\n",
    "# sort the first row by means of ascending"
   ]
  },
  {
   "cell_type": "code",
   "execution_count": 20,
   "metadata": {
    "collapsed": false
   },
   "outputs": [
    {
     "data": {
      "text/html": [
       "<div>\n",
       "<table border=\"1\" class=\"dataframe\">\n",
       "  <thead>\n",
       "    <tr style=\"text-align: right;\">\n",
       "      <th></th>\n",
       "      <th>apparent_temperature</th>\n",
       "      <th>House_Volume_Cubic_Footage__c</th>\n",
       "      <th>pressure</th>\n",
       "      <th>wind_bearing</th>\n",
       "      <th>wind_speed</th>\n",
       "      <th>temperature</th>\n",
       "      <th>dew_point</th>\n",
       "      <th>humidity</th>\n",
       "      <th>cloud_cover</th>\n",
       "      <th>ozone</th>\n",
       "      <th>...</th>\n",
       "      <th>cloud_cover_error</th>\n",
       "      <th>precip_intensity_error</th>\n",
       "      <th>residents_19_to_24</th>\n",
       "      <th>Number_of_Manual_Thermostats__c</th>\n",
       "      <th>heating_none</th>\n",
       "      <th>Number_of_Heat_Recovery_Systems__c</th>\n",
       "      <th>Number_of_Gas_Space_Heaters__c</th>\n",
       "      <th>Number_of_Wall_Furnaces__c</th>\n",
       "      <th>hvac_no_ac</th>\n",
       "      <th>hvac_geothermal_heat_pump</th>\n",
       "    </tr>\n",
       "  </thead>\n",
       "  <tbody>\n",
       "    <tr>\n",
       "      <th>0</th>\n",
       "      <td>0.140142</td>\n",
       "      <td>0.109344</td>\n",
       "      <td>0.07271</td>\n",
       "      <td>0.066081</td>\n",
       "      <td>0.065393</td>\n",
       "      <td>0.06398</td>\n",
       "      <td>0.061288</td>\n",
       "      <td>0.048681</td>\n",
       "      <td>0.043632</td>\n",
       "      <td>0.043519</td>\n",
       "      <td>...</td>\n",
       "      <td>0.0</td>\n",
       "      <td>0.0</td>\n",
       "      <td>0.0</td>\n",
       "      <td>0.0</td>\n",
       "      <td>0.0</td>\n",
       "      <td>0.0</td>\n",
       "      <td>0.0</td>\n",
       "      <td>0.0</td>\n",
       "      <td>0.0</td>\n",
       "      <td>0.0</td>\n",
       "    </tr>\n",
       "  </tbody>\n",
       "</table>\n",
       "<p>1 rows × 262 columns</p>\n",
       "</div>"
      ],
      "text/plain": [
       "   apparent_temperature  House_Volume_Cubic_Footage__c  pressure  \\\n",
       "0              0.140142                       0.109344   0.07271   \n",
       "\n",
       "   wind_bearing  wind_speed  temperature  dew_point  humidity  cloud_cover  \\\n",
       "0      0.066081    0.065393      0.06398   0.061288  0.048681     0.043632   \n",
       "\n",
       "      ozone            ...              cloud_cover_error  \\\n",
       "0  0.043519            ...                            0.0   \n",
       "\n",
       "   precip_intensity_error  residents_19_to_24  \\\n",
       "0                     0.0                 0.0   \n",
       "\n",
       "   Number_of_Manual_Thermostats__c  heating_none  \\\n",
       "0                              0.0           0.0   \n",
       "\n",
       "   Number_of_Heat_Recovery_Systems__c  Number_of_Gas_Space_Heaters__c  \\\n",
       "0                                 0.0                             0.0   \n",
       "\n",
       "   Number_of_Wall_Furnaces__c  hvac_no_ac  hvac_geothermal_heat_pump  \n",
       "0                         0.0         0.0                        0.0  \n",
       "\n",
       "[1 rows x 262 columns]"
      ]
     },
     "execution_count": 20,
     "metadata": {},
     "output_type": "execute_result"
    }
   ],
   "source": [
    "plot1"
   ]
  },
  {
   "cell_type": "code",
   "execution_count": 21,
   "metadata": {
    "collapsed": true
   },
   "outputs": [],
   "source": [
    "# save the csv file that have all feature importance information for random forest algorithms\n",
    "plot1.to_csv('data/output/feature_importances_random_forest.csv')"
   ]
  },
  {
   "cell_type": "code",
   "execution_count": 22,
   "metadata": {
    "collapsed": false
   },
   "outputs": [
    {
     "data": {
      "image/png": "[encoded data removed]",
      "text/plain": [
       "<matplotlib.figure.Figure at 0x2660aabffd0>"
      ]
     },
     "metadata": {},
     "output_type": "display_data"
    }
   ],
   "source": [
    "ax = sns.barplot(data=plot1);\n",
    "# plot the factors as bar chart"
   ]
  },
  {
   "cell_type": "code",
   "execution_count": 24,
   "metadata": {
    "collapsed": false
   },
   "outputs": [
    {
     "data": {
      "text/html": [
       "<div>\n",
       "<table border=\"1\" class=\"dataframe\">\n",
       "  <thead>\n",
       "    <tr style=\"text-align: right;\">\n",
       "      <th></th>\n",
       "      <th>apparent_temperature</th>\n",
       "      <th>House_Volume_Cubic_Footage__c</th>\n",
       "      <th>pressure</th>\n",
       "      <th>wind_bearing</th>\n",
       "      <th>wind_speed</th>\n",
       "      <th>temperature</th>\n",
       "      <th>dew_point</th>\n",
       "      <th>humidity</th>\n",
       "      <th>cloud_cover</th>\n",
       "      <th>ozone</th>\n",
       "      <th>Construction_Year__c</th>\n",
       "      <th>visibility</th>\n",
       "      <th>appliance_hairdryer_daily basis</th>\n",
       "      <th>Total_Window_Square_Footage_W__c</th>\n",
       "      <th>precip_intensity</th>\n",
       "      <th>precip_probability</th>\n",
       "      <th>electric_ovenrange_number</th>\n",
       "      <th>Total_Window_Square_Footage_S__c</th>\n",
       "      <th>modify_routines_Yes</th>\n",
       "      <th>television_number</th>\n",
       "    </tr>\n",
       "  </thead>\n",
       "  <tbody>\n",
       "    <tr>\n",
       "      <th>0</th>\n",
       "      <td>0.140142</td>\n",
       "      <td>0.109344</td>\n",
       "      <td>0.07271</td>\n",
       "      <td>0.066081</td>\n",
       "      <td>0.065393</td>\n",
       "      <td>0.06398</td>\n",
       "      <td>0.061288</td>\n",
       "      <td>0.048681</td>\n",
       "      <td>0.043632</td>\n",
       "      <td>0.043519</td>\n",
       "      <td>0.023636</td>\n",
       "      <td>0.021052</td>\n",
       "      <td>0.014489</td>\n",
       "      <td>0.01067</td>\n",
       "      <td>0.009923</td>\n",
       "      <td>0.009534</td>\n",
       "      <td>0.008813</td>\n",
       "      <td>0.008275</td>\n",
       "      <td>0.006841</td>\n",
       "      <td>0.00639</td>\n",
       "    </tr>\n",
       "  </tbody>\n",
       "</table>\n",
       "</div>"
      ],
      "text/plain": [
       "   apparent_temperature  House_Volume_Cubic_Footage__c  pressure  \\\n",
       "0              0.140142                       0.109344   0.07271   \n",
       "\n",
       "   wind_bearing  wind_speed  temperature  dew_point  humidity  cloud_cover  \\\n",
       "0      0.066081    0.065393      0.06398   0.061288  0.048681     0.043632   \n",
       "\n",
       "      ozone  Construction_Year__c  visibility  \\\n",
       "0  0.043519              0.023636    0.021052   \n",
       "\n",
       "   appliance_hairdryer_daily basis  Total_Window_Square_Footage_W__c  \\\n",
       "0                         0.014489                           0.01067   \n",
       "\n",
       "   precip_intensity  precip_probability  electric_ovenrange_number  \\\n",
       "0          0.009923            0.009534                   0.008813   \n",
       "\n",
       "   Total_Window_Square_Footage_S__c  modify_routines_Yes  television_number  \n",
       "0                          0.008275             0.006841            0.00639  "
      ]
     },
     "execution_count": 24,
     "metadata": {},
     "output_type": "execute_result"
    },
    {
     "data": {
      "image/png": "[encoded data removed]",
      "text/plain": [
       "<matplotlib.figure.Figure at 0x2661918f438>"
      ]
     },
     "metadata": {},
     "output_type": "display_data"
    }
   ],
   "source": [
    "plot2 = plot1.ix[:,0:20]\n",
    "# select the first 20 columns in the table (20 factors that have greatest impact on y when using random forest regression)\n",
    "# note that the first column should be excluded because it is itself\n",
    "\n",
    "# save the csv file that have top 20 important features for random forest\n",
    "plot2.to_csv('data/output/top20_important_feature_random_forest.csv')\n",
    "\n",
    "ax = sns.barplot(data=plot2)\n",
    "# plot the first 10 columns that are positively related to y\n",
    "\n",
    "plot2"
   ]
  },
  {
   "cell_type": "code",
   "execution_count": null,
   "metadata": {
    "collapsed": true
   },
   "outputs": [],
   "source": []
  },
  {
   "cell_type": "code",
   "execution_count": null,
   "metadata": {
    "collapsed": true
   },
   "outputs": [],
   "source": []
  }
 ],
 "metadata": {
  "kernelspec": {
   "display_name": "Python 3",
   "language": "python",
   "name": "python3"
  },
  "language_info": {
   "codemirror_mode": {
    "name": "ipython",
    "version": 3
   },
   "file_extension": ".py",
   "mimetype": "text/x-python",
   "name": "python",
   "nbconvert_exporter": "python",
   "pygments_lexer": "ipython3",
   "version": "3.6.0"
  }
 },
 "nbformat": 4,
 "nbformat_minor": 2
}
