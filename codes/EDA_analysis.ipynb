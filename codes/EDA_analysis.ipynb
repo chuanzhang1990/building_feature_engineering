{
 "cells": [
  {
   "cell_type": "code",
   "execution_count": 13,
   "metadata": {
    "collapsed": true
   },
   "outputs": [],
   "source": [
    "from IPython.display import Image\n",
    "%matplotlib inline"
   ]
  },
  {
   "cell_type": "markdown",
   "metadata": {},
   "source": [
    "# survey table"
   ]
  },
  {
   "cell_type": "code",
   "execution_count": 14,
   "metadata": {
    "collapsed": false
   },
   "outputs": [
    {
     "data": {
      "text/plain": [
       "(38, 172)"
      ]
     },
     "execution_count": 14,
     "metadata": {},
     "output_type": "execute_result"
    }
   ],
   "source": [
    "import pandas as pd\n",
    "\n",
    "df1 = pd.read_csv('data/input/38bldgs_survey_2013.csv',\n",
    "#                  index_col='dataid',\n",
    "                 header='infer',\n",
    "                 sep=',')\n",
    "\n",
    "df1.dtypes;\n",
    "\n",
    "df1.shape\n",
    "\n",
    "df1.dropna(axis=1,how='all');\n",
    "# drop the columns where all values are null\n",
    "\n",
    "df1 = df1.drop_duplicates(subset='dataid', keep='first')\n",
    "\n",
    "df1.shape\n",
    "\n",
    "range1 = lambda start, end: range(start, end+1)\n",
    "\n",
    "list1 = [1] + list(range1(3,4)) + [22, 23, 37, 39, 41, 42, 43, 45, 46] + list(range1(60,67)) + [76] + list(range1(87,101)) \\\n",
    "            + [108, 110, 113, 115, 120, 122, 124, 129, 131, 132, 133] + list(range(135, 168, 2)) + list(range1(174,177)) \\\n",
    "             + [182] \n",
    "# list of columns to be dropped due to these columns simply do not make sense       \n",
    "\n",
    "df1 = df1.drop(df1.columns[list1], axis=1)\n",
    "\n",
    "df1.shape\n",
    "\n",
    "pd.set_option('display.max_rows', 200)\n",
    "# set the max rows can be displayed as 200\n",
    "\n",
    "list11 = [1,2,3,4,7]\n",
    "# list of columb to be dropped due to overlap between audits table and survey table\n",
    "\n",
    "df1 = df1.drop(df1.columns[list11], axis=1)\n",
    "\n",
    "df1.dropna(axis=1,how='all');\n",
    "# drop the columns where all values are null\n",
    "\n",
    "# df1.to_csv('data/test.csv', sep=',')\n",
    "\n",
    "df1.shape\n",
    "\n",
    "list12 = list(range1(3,13)) + list(range1(24,45)) + list(range1(49,59)) + list(range1(61,66)) + [73,75] \\\n",
    "           + list(range1(77,81)) + list(range1(99,104))\n",
    " \n",
    "# list of columns to get dummied\n",
    "\n",
    "df_1 = pd.get_dummies(df1[list12])\n",
    "# convert the nominal categorical features\n",
    "\n",
    "df_1.shape\n",
    "# size of the data framwork with dummy features\n",
    "\n",
    "df_1.dtypes;\n",
    "\n",
    "list13 = [14, 15, 46] + list(range1(82,98)) + list(range1(105,108))\n",
    "# list of column to be converted \n",
    "\n",
    "df_11 = df1[list13].apply(pd.to_numeric, errors='coerce')\n",
    "# convert the ordinal categorical features\n",
    "\n",
    "df_11.dtypes;\n",
    "\n",
    "df_11.shape\n",
    "# size of the data framwork with converted features\n",
    "\n",
    "df1.dtypes;\n",
    "# check data types of df1 before converting\n",
    "\n",
    "list14 = list12 + list13\n",
    "# get the combined list of the columns that have been dummied and have been converted\n",
    "\n",
    "df1 = df1.drop(df1.columns[list14], axis=1)\n",
    "# reduce the dummy and converted columns from the original data framework\n",
    "\n",
    "df1.shape\n",
    "# size of the new dataframe \n",
    "\n",
    "df1 = pd.concat([df1, df_1], axis=1)\n",
    "\n",
    "df1 = pd.concat([df1, df_11], axis=1)\n",
    "\n",
    "df1.shape\n",
    "\n",
    "df1.dtypes;\n",
    "\n",
    "df1.head();\n",
    "\n",
    "df1.fillna(0, inplace=True)\n",
    "\n",
    "df1.head()\n",
    "\n",
    "df1.shape"
   ]
  },
  {
   "cell_type": "markdown",
   "metadata": {},
   "source": [
    "# audits table"
   ]
  },
  {
   "cell_type": "code",
   "execution_count": 15,
   "metadata": {
    "collapsed": false
   },
   "outputs": [
    {
     "data": {
      "text/plain": [
       "(38, 67)"
      ]
     },
     "execution_count": 15,
     "metadata": {},
     "output_type": "execute_result"
    }
   ],
   "source": [
    "import pandas as pd\n",
    "\n",
    "df2 = pd.read_csv('data/input/38bldgs_audits_2013.csv',\n",
    "#                  index_col='dataid',\n",
    "                 header='infer',\n",
    "                 sep=',')\n",
    "\n",
    "df2.shape\n",
    "\n",
    "df2.head();\n",
    "\n",
    "range2 = lambda start, end: range(start, end+1)\n",
    "\n",
    "list2 = list(range2(1,4)) + [8] + [12, 13] + [19, 20] + [27, 30, 47, 49, 57, 58, 59, 61, 63, 66, 68, 69, 70] + list(range2(74,77))\n",
    "# list of columns to be dropped     \n",
    "\n",
    "list2;\n",
    "\n",
    "df2 = df2.drop(df2.columns[list2], axis=1)\n",
    "\n",
    "df2.shape\n",
    "\n",
    "df2.dtypes;\n",
    "\n",
    "df2.head()\n",
    "\n",
    "df2.shape\n",
    "\n",
    "list22 = [6, 7, 8, 51]\n",
    "# list of column to be get dummied\n",
    "\n",
    "df_2 = pd.get_dummies(df2[list22])\n",
    "\n",
    "df_2.head();\n",
    "\n",
    "df_2.shape\n",
    "\n",
    "df2 = df2.drop(df2.columns[list22], axis=1)\n",
    "\n",
    "df2.shape\n",
    "\n",
    "df2 = pd.concat([df2, df_2], axis=1)\n",
    "\n",
    "df2.shape\n",
    "\n",
    "df2.head()\n",
    "\n",
    "df2.dtypes;\n",
    "\n",
    "df2.fillna(0, inplace=True)\n",
    "\n",
    "df2.head();\n",
    "\n",
    "df2.shape"
   ]
  },
  {
   "cell_type": "markdown",
   "metadata": {},
   "source": [
    "# combibe the audit and survey tables"
   ]
  },
  {
   "cell_type": "code",
   "execution_count": 16,
   "metadata": {
    "collapsed": false
   },
   "outputs": [
    {
     "data": {
      "text/plain": [
       "(38, 238)"
      ]
     },
     "execution_count": 16,
     "metadata": {},
     "output_type": "execute_result"
    }
   ],
   "source": [
    "df12 = pd.merge(df1, df2, on='dataid', how='left')\n",
    "\n",
    "df12.shape\n",
    "\n",
    "df12;\n",
    "\n",
    "df12.isnull().sum();\n",
    "# show the number of null values in each column\n",
    "\n",
    "df12.head();\n",
    "\n",
    "df12.shape"
   ]
  },
  {
   "cell_type": "markdown",
   "metadata": {
    "collapsed": true
   },
   "source": [
    "## egauge table"
   ]
  },
  {
   "cell_type": "code",
   "execution_count": 17,
   "metadata": {
    "collapsed": false
   },
   "outputs": [
    {
     "data": {
      "text/plain": [
       "(314121, 30)"
      ]
     },
     "execution_count": 17,
     "metadata": {},
     "output_type": "execute_result"
    }
   ],
   "source": [
    "import pandas as pd\n",
    "\n",
    "df1 = pd.read_csv('data/input/38bldgs_electricity_egauage_hours_2014.csv',\n",
    "#                 index_col= ['dataid','localhour'],\n",
    "                 index_col= 'dataid',\n",
    "                 header='infer',\n",
    "                 sep=',')\n",
    "\n",
    "df1.shape\n",
    "\n",
    "df1.dropna(axis=1,how='all');\n",
    "# drop the columns where all values are null\n",
    "\n",
    "df1.head();\n",
    "\n",
    "df1['electricity_consumption'] = df1.sum(axis=1)\n",
    "\n",
    "df_1 = df1[['localhour', 'electricity_consumption']].copy()\n",
    "\n",
    "df_1.shape\n",
    "\n",
    "# df_11 = df_1.reset_index(level='dataid')\n",
    "# reset the dataid as column instead of index for the sake of join\n",
    "\n",
    "df_1.head()\n",
    "\n",
    "import pandas as pd\n",
    "\n",
    "df2 = pd.read_csv('data/input/weather_hours_2014.csv',\n",
    "#                index_col='localhour',\n",
    "                 header='infer',\n",
    "                 sep=',')\n",
    "\n",
    "df2.shape\n",
    "\n",
    "df2.dropna(axis=1,how='all');\n",
    "# drop the columns where all values are null\n",
    "\n",
    "df2.median();\n",
    "df_2 = df2.fillna(df2.median())\n",
    "\n",
    "df_2.fillna(0, inplace=True)\n",
    "# set the null value to zero\n",
    "\n",
    "df_2.shape\n",
    "\n",
    "# df_22 = df_2.reset_index(level='localhour')\n",
    "# reset the dataid as column instead of index for the sake of drop duplicate\n",
    "\n",
    "df_2 = df_2.drop_duplicates(subset='localhour', keep='first');\n",
    "# drop duplicate tuples based on localhour column\n",
    "\n",
    "df_2.shape\n",
    "\n",
    "df_2.head()\n",
    "\n",
    "df_1 = df_1.reset_index(level='dataid');\n",
    "# reset the dataid as column instead of index for the sake of join\n",
    "\n",
    "df_1.head()\n",
    "\n",
    "df_1['localhour']  = pd.to_datetime(df_1['localhour'])\n",
    "\n",
    "df_2['localhour']  = pd.to_datetime(df_2['localhour'])\n",
    "\n",
    "df_a = pd.merge(df_1, df_2, on='localhour', how='left')\n",
    "\n",
    "df_a.shape\n",
    "\n",
    "df_a.head()\n",
    "\n",
    "df_a = df_a.fillna(df_a.median())\n",
    "\n",
    "df_a.isnull().sum();\n",
    "# show the number of null values in each column\n",
    "\n",
    "df_a.shape"
   ]
  },
  {
   "cell_type": "markdown",
   "metadata": {},
   "source": [
    "## combine the three tables together"
   ]
  },
  {
   "cell_type": "code",
   "execution_count": 18,
   "metadata": {
    "collapsed": false
   },
   "outputs": [
    {
     "data": {
      "text/plain": [
       "(314121, 265)"
      ]
     },
     "execution_count": 18,
     "metadata": {},
     "output_type": "execute_result"
    }
   ],
   "source": [
    "df = pd.merge(df_a, df12, on='dataid', how='left')\n",
    "\n",
    "df.shape\n",
    "\n",
    "df.head()\n",
    "\n",
    "df  =  df.drop(['summary','precip_type'], 1)\n",
    "\n",
    "df_reserve = df\n",
    "\n",
    "df.isnull().sum()\n",
    "# show the number of null values in each column\n",
    "\n",
    "df.dtypes;\n",
    "\n",
    "df.shape"
   ]
  },
  {
   "cell_type": "markdown",
   "metadata": {
    "collapsed": true
   },
   "source": [
    "# exploratory data analysis"
   ]
  },
  {
   "cell_type": "markdown",
   "metadata": {},
   "source": [
    "### create and save the corelation matrix"
   ]
  },
  {
   "cell_type": "code",
   "execution_count": 19,
   "metadata": {
    "collapsed": false
   },
   "outputs": [
    {
     "name": "stderr",
     "output_type": "stream",
     "text": [
      "C:\\ProgramData\\Anaconda3\\lib\\site-packages\\numpy\\lib\\function_base.py:2569: RuntimeWarning: invalid value encountered in true_divide\n",
      "  c /= stddev[:, None]\n",
      "C:\\ProgramData\\Anaconda3\\lib\\site-packages\\numpy\\lib\\function_base.py:2570: RuntimeWarning: invalid value encountered in true_divide\n",
      "  c /= stddev[None, :]\n"
     ]
    },
    {
     "data": {
      "text/plain": [
       "(263, 263)"
      ]
     },
     "execution_count": 19,
     "metadata": {},
     "output_type": "execute_result"
    }
   ],
   "source": [
    "df  =  df.drop(['dataid','localhour'], 1)\n",
    "\n",
    "df.shape\n",
    "\n",
    "cols = list(df)\n",
    "# get column list of the data framework\n",
    "\n",
    "df.dtypes;\n",
    "\n",
    "cols;\n",
    "\n",
    "import matplotlib.pyplot as plt\n",
    "import seaborn as sns\n",
    "import numpy as np\n",
    "\n",
    "cm = np.corrcoef(df[cols].values.T)\n",
    "\n",
    "# create a pandas dataframe that stores the corelation martix, then store the correlation martix as csv file\n",
    "cm_save = pd.DataFrame(data=cm,columns=cols,index=cols)\n",
    "\n",
    "cm_save.fillna(0, inplace=True)\n",
    "# set the null value to zero\n",
    "\n",
    "cm_save.to_csv('data/output/correlation_matrix_EDA.csv')\n",
    "\n",
    "cm_save.head()\n",
    "\n",
    "cm.shape"
   ]
  },
  {
   "cell_type": "markdown",
   "metadata": {},
   "source": [
    "### plot the overall corelation "
   ]
  },
  {
   "cell_type": "code",
   "execution_count": 20,
   "metadata": {
    "collapsed": false,
    "scrolled": true
   },
   "outputs": [
    {
     "data": {
      "image/png": "[encoded data removed]",
      "text/plain": [
       "<matplotlib.figure.Figure at 0x1bc226e01d0>"
      ]
     },
     "metadata": {},
     "output_type": "display_data"
    }
   ],
   "source": [
    "cm[0].shape\n",
    "\n",
    "ploty = cm[0].reshape(1,263)\n",
    "# reshape the first row of the correlation matrix to get the sort of principle component\n",
    "\n",
    "ploty;\n",
    "\n",
    "plotx = cols\n",
    "\n",
    "plotx;\n",
    "\n",
    "plot1 = pd.DataFrame(data=ploty,columns=plotx)\n",
    "\n",
    "plot1\n",
    "\n",
    "plot = plot1.sort_values(by=0, ascending=False, axis=1)\n",
    "# sort the first row by means of ascending\n",
    "\n",
    "plot\n",
    "\n",
    "plot2 = plot.ix[:,1:]\n",
    "\n",
    "# save the csv file that have all feature corelations gotten from EDA\n",
    "plot2.to_csv('data/output/feature_importances_EDA.csv')\n",
    "\n",
    "ax = sns.barplot(data=plot2)\n",
    "# plot the corelation martrix all accordingly"
   ]
  },
  {
   "cell_type": "markdown",
   "metadata": {},
   "source": [
    "### select the factors that have zero or under 0.05 impact on y"
   ]
  },
  {
   "cell_type": "code",
   "execution_count": 9,
   "metadata": {
    "collapsed": true
   },
   "outputs": [],
   "source": [
    "# plot the factors that are related to y under 0.05 scale\n",
    "\n",
    "plot3 = cm_save.iloc[:,0]\n",
    "\n",
    "plot3 = pd.DataFrame(data=plot3,columns=['electricity_consumption'])\n",
    "# create a dataframe using features a row so that selection query can be designed more easily\n",
    "\n",
    "plot3;"
   ]
  },
  {
   "cell_type": "markdown",
   "metadata": {},
   "source": [
    "### Either excute the 1+2 part or excute 1+3 part of the codes"
   ]
  },
  {
   "cell_type": "code",
   "execution_count": 10,
   "metadata": {
    "collapsed": false,
    "scrolled": true
   },
   "outputs": [
    {
     "data": {
      "text/plain": [
       "(19, 1)"
      ]
     },
     "execution_count": 10,
     "metadata": {},
     "output_type": "execute_result"
    }
   ],
   "source": [
    "plot3 = plot3.loc[plot3['electricity_consumption'] == 0]\n",
    " # select the factor that has zero impact on y   \n",
    "\n",
    "plot3\n",
    "\n",
    "plot3.shape"
   ]
  },
  {
   "cell_type": "code",
   "execution_count": 11,
   "metadata": {
    "collapsed": false
   },
   "outputs": [
    {
     "data": {
      "text/html": [
       "<div>\n",
       "<table border=\"1\" class=\"dataframe\">\n",
       "  <thead>\n",
       "    <tr style=\"text-align: right;\">\n",
       "      <th></th>\n",
       "      <th>ozone_error</th>\n",
       "      <th>residents_19_to_24</th>\n",
       "      <th>Number_of_Heat_Recovery_Systems__c</th>\n",
       "      <th>Number_of_Gas_Space_Heaters__c</th>\n",
       "      <th>Number_of_Wall_Furnaces__c</th>\n",
       "      <th>heating_none</th>\n",
       "      <th>hvac_no_ac</th>\n",
       "      <th>hvac_ductless</th>\n",
       "      <th>hvac_geothermal_heat_pump</th>\n",
       "      <th>precip_intensity_error</th>\n",
       "      <th>temperature_error</th>\n",
       "      <th>cloud_cover_error</th>\n",
       "      <th>wind_speed_error</th>\n",
       "      <th>pressure_error</th>\n",
       "      <th>apparent_temperature_error</th>\n",
       "      <th>visibility_error</th>\n",
       "      <th>humidity_error</th>\n",
       "      <th>dew_point_error</th>\n",
       "      <th>Number_of_Manual_Thermostats__c</th>\n",
       "    </tr>\n",
       "  </thead>\n",
       "  <tbody>\n",
       "    <tr>\n",
       "      <th>electricity_consumption</th>\n",
       "      <td>0.0</td>\n",
       "      <td>0.0</td>\n",
       "      <td>0.0</td>\n",
       "      <td>0.0</td>\n",
       "      <td>0.0</td>\n",
       "      <td>0.0</td>\n",
       "      <td>0.0</td>\n",
       "      <td>0.0</td>\n",
       "      <td>0.0</td>\n",
       "      <td>0.0</td>\n",
       "      <td>0.0</td>\n",
       "      <td>0.0</td>\n",
       "      <td>0.0</td>\n",
       "      <td>0.0</td>\n",
       "      <td>0.0</td>\n",
       "      <td>0.0</td>\n",
       "      <td>0.0</td>\n",
       "      <td>0.0</td>\n",
       "      <td>0.0</td>\n",
       "    </tr>\n",
       "  </tbody>\n",
       "</table>\n",
       "</div>"
      ],
      "text/plain": [
       "                         ozone_error  residents_19_to_24  \\\n",
       "electricity_consumption          0.0                 0.0   \n",
       "\n",
       "                         Number_of_Heat_Recovery_Systems__c  \\\n",
       "electricity_consumption                                 0.0   \n",
       "\n",
       "                         Number_of_Gas_Space_Heaters__c  \\\n",
       "electricity_consumption                             0.0   \n",
       "\n",
       "                         Number_of_Wall_Furnaces__c  heating_none  hvac_no_ac  \\\n",
       "electricity_consumption                         0.0           0.0         0.0   \n",
       "\n",
       "                         hvac_ductless  hvac_geothermal_heat_pump  \\\n",
       "electricity_consumption            0.0                        0.0   \n",
       "\n",
       "                         precip_intensity_error  temperature_error  \\\n",
       "electricity_consumption                     0.0                0.0   \n",
       "\n",
       "                         cloud_cover_error  wind_speed_error  pressure_error  \\\n",
       "electricity_consumption                0.0               0.0             0.0   \n",
       "\n",
       "                         apparent_temperature_error  visibility_error  \\\n",
       "electricity_consumption                         0.0               0.0   \n",
       "\n",
       "                         humidity_error  dew_point_error  \\\n",
       "electricity_consumption             0.0              0.0   \n",
       "\n",
       "                         Number_of_Manual_Thermostats__c  \n",
       "electricity_consumption                              0.0  "
      ]
     },
     "execution_count": 11,
     "metadata": {},
     "output_type": "execute_result"
    },
    {
     "data": {
      "image/png": "[encoded data removed]",
      "text/plain": [
       "<matplotlib.figure.Figure at 0x1bc22589a58>"
      ]
     },
     "metadata": {},
     "output_type": "display_data"
    }
   ],
   "source": [
    " plot3 = plot3.loc[(plot3['electricity_consumption'] <= 0.05) & (plot3['electricity_consumption'] >= -0.05)]\n",
    "# # select the factors that have less than 0.05 linear relationship with y\n",
    "\n",
    "plot3;\n",
    "\n",
    "plot3 = plot3.T\n",
    "\n",
    "plot3;\n",
    "\n",
    "plot3 = plot3.sort_values(by='electricity_consumption', ascending=False, axis=1)\n",
    "# sort the first row by means of ascending\n",
    "\n",
    "ax = sns.barplot(data=plot3);\n",
    "# plot the factors as bar chart\n",
    "\n",
    "plot3"
   ]
  },
  {
   "cell_type": "markdown",
   "metadata": {},
   "source": [
    "### the top 10 factors"
   ]
  },
  {
   "cell_type": "code",
   "execution_count": 22,
   "metadata": {
    "collapsed": false,
    "scrolled": false
   },
   "outputs": [
    {
     "data": {
      "text/html": [
       "<div>\n",
       "<table border=\"1\" class=\"dataframe\">\n",
       "  <thead>\n",
       "    <tr style=\"text-align: right;\">\n",
       "      <th></th>\n",
       "      <th>Conditioned_Square_Footage__c</th>\n",
       "      <th>House_Volume_Cubic_Footage__c</th>\n",
       "      <th>electric_ovenrange_number</th>\n",
       "      <th>sprinklersystem_number</th>\n",
       "      <th>ceilingfan_number</th>\n",
       "      <th>Number_of_Bedrooms__c</th>\n",
       "      <th>house_square_feet</th>\n",
       "      <th>electricvehicle_number</th>\n",
       "      <th>residents_13_to_18</th>\n",
       "      <th>irrigation_system_Yes</th>\n",
       "    </tr>\n",
       "  </thead>\n",
       "  <tbody>\n",
       "    <tr>\n",
       "      <th>0</th>\n",
       "      <td>0.325674</td>\n",
       "      <td>0.319947</td>\n",
       "      <td>0.308955</td>\n",
       "      <td>0.283729</td>\n",
       "      <td>0.28252</td>\n",
       "      <td>0.281808</td>\n",
       "      <td>0.278498</td>\n",
       "      <td>0.273004</td>\n",
       "      <td>0.254367</td>\n",
       "      <td>0.243451</td>\n",
       "    </tr>\n",
       "  </tbody>\n",
       "</table>\n",
       "</div>"
      ],
      "text/plain": [
       "   Conditioned_Square_Footage__c  House_Volume_Cubic_Footage__c  \\\n",
       "0                       0.325674                       0.319947   \n",
       "\n",
       "   electric_ovenrange_number  sprinklersystem_number  ceilingfan_number  \\\n",
       "0                   0.308955                0.283729            0.28252   \n",
       "\n",
       "   Number_of_Bedrooms__c  house_square_feet  electricvehicle_number  \\\n",
       "0               0.281808           0.278498                0.273004   \n",
       "\n",
       "   residents_13_to_18  irrigation_system_Yes  \n",
       "0            0.254367               0.243451  "
      ]
     },
     "execution_count": 22,
     "metadata": {},
     "output_type": "execute_result"
    },
    {
     "data": {
      "image/png": "[encoded data removed]",
      "text/plain": [
       "<matplotlib.figure.Figure at 0x1bc0663c978>"
      ]
     },
     "metadata": {},
     "output_type": "display_data"
    }
   ],
   "source": [
    "plota = plot.ix[:,1:11]\n",
    "# select the first 5 columns in the table (five factors that are mostly positive linear corelated with y)\n",
    "# note that the first column should be excluded because it is itself\n",
    "\n",
    "ax = sns.barplot(data=plota)\n",
    "# plot the first 10 columns that are positively related to y\n",
    "\n",
    "# save the csv file that have top 10 features that are positively linear to y\n",
    "plota.to_csv('data/output/top10_positive_linear_feature_EDA.csv')\n",
    "\n",
    "plota"
   ]
  },
  {
   "cell_type": "markdown",
   "metadata": {},
   "source": [
    "### the last 10 factors"
   ]
  },
  {
   "cell_type": "code",
   "execution_count": 23,
   "metadata": {
    "collapsed": false
   },
   "outputs": [
    {
     "data": {
      "text/html": [
       "<div>\n",
       "<table border=\"1\" class=\"dataframe\">\n",
       "  <thead>\n",
       "    <tr style=\"text-align: right;\">\n",
       "      <th></th>\n",
       "      <th>irrigation_system_No</th>\n",
       "      <th>pv_system_own_No</th>\n",
       "      <th>Significant_Shade__c</th>\n",
       "      <th>ACH50_Calculation__c</th>\n",
       "      <th>Attic_Insulation_Secured__c</th>\n",
       "      <th>spend_time_at_home_none_none</th>\n",
       "      <th>Distance_From_Neighbors__c_0</th>\n",
       "      <th>programmable_thermostat_currently_programmed_I dont know</th>\n",
       "      <th>reduce_energy_cost_Yes</th>\n",
       "      <th>Type_of_Home__c_Town Home</th>\n",
       "    </tr>\n",
       "  </thead>\n",
       "  <tbody>\n",
       "    <tr>\n",
       "      <th>0</th>\n",
       "      <td>0.226489</td>\n",
       "      <td>0.223425</td>\n",
       "      <td>0.19901</td>\n",
       "      <td>0.19085</td>\n",
       "      <td>0.190005</td>\n",
       "      <td>0.163573</td>\n",
       "      <td>0.158004</td>\n",
       "      <td>0.152669</td>\n",
       "      <td>0.144755</td>\n",
       "      <td>0.144038</td>\n",
       "    </tr>\n",
       "  </tbody>\n",
       "</table>\n",
       "</div>"
      ],
      "text/plain": [
       "   irrigation_system_No  pv_system_own_No  Significant_Shade__c  \\\n",
       "0              0.226489          0.223425               0.19901   \n",
       "\n",
       "   ACH50_Calculation__c  Attic_Insulation_Secured__c  \\\n",
       "0               0.19085                     0.190005   \n",
       "\n",
       "   spend_time_at_home_none_none  Distance_From_Neighbors__c_0  \\\n",
       "0                      0.163573                      0.158004   \n",
       "\n",
       "   programmable_thermostat_currently_programmed_I dont know  \\\n",
       "0                                           0.152669          \n",
       "\n",
       "   reduce_energy_cost_Yes  Type_of_Home__c_Town Home  \n",
       "0                0.144755                   0.144038  "
      ]
     },
     "execution_count": 23,
     "metadata": {},
     "output_type": "execute_result"
    },
    {
     "data": {
      "image/png": "[encoded data removed]",
      "text/plain": [
       "<matplotlib.figure.Figure at 0x1bc0557de80>"
      ]
     },
     "metadata": {},
     "output_type": "display_data"
    }
   ],
   "source": [
    "plotb = plot.ix[:,-10:]\n",
    "# select the last 10 columns in the table (five factors that are mostly negative linear corelated with y)\n",
    "\n",
    "plotb\n",
    "\n",
    "plotb = plotb.abs()\n",
    "# covert the numerical values to abs\n",
    "\n",
    "plotb = plotb.sort_values(by=0, ascending=False, axis=1)\n",
    "# sort the first row by means of ascending\n",
    "\n",
    "# save the csv file that have top 10 features that are negatively linear to y\n",
    "plotb.to_csv('data/output/top10_negative_linear_feature_EDA.csv')\n",
    "\n",
    "ax = sns.barplot(data=plotb)\n",
    "# plot the last 10 columns that are negatively related to y\n",
    "\n",
    "plotb"
   ]
  },
  {
   "cell_type": "code",
   "execution_count": null,
   "metadata": {
    "collapsed": true
   },
   "outputs": [],
   "source": []
  }
 ],
 "metadata": {
  "kernelspec": {
   "display_name": "Python 3",
   "language": "python",
   "name": "python3"
  },
  "language_info": {
   "codemirror_mode": {
    "name": "ipython",
    "version": 3
   },
   "file_extension": ".py",
   "mimetype": "text/x-python",
   "name": "python",
   "nbconvert_exporter": "python",
   "pygments_lexer": "ipython3",
   "version": "3.6.0"
  }
 },
 "nbformat": 4,
 "nbformat_minor": 2
}
